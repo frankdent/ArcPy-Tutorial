{
 "cells": [
  {
   "cell_type": "markdown",
   "metadata": {},
   "source": [
    "This Notebook is meant to be run inside of ArcGIS Pro. You can drag this file inside ArcGIS Pro.\n",
    "\n",
    "Arcpy can also be ran on IDEs such as VS Code or IDLE but they have to be linked to ArcGIS Pro."
   ]
  },
  {
   "cell_type": "markdown",
   "metadata": {},
   "source": [
    "# Jupyter Notebook ArcPy Tutorial\n",
    "Author: François d'Entremont<br>\n",
    "Date: April 18th, 2023"
   ]
  },
  {
   "cell_type": "markdown",
   "metadata": {},
   "source": [
    "The kernal we are using is shown on the top right - ArcGISPro - providing the engine that executes the code. \n",
    "\n",
    "The environment is already set up. We are using the arcgispro-py3 environment located in the folder \n",
    "C:\\Program Files\\ArcGIS\\Pro\\bin\\Python\\envs.\n",
    "\n",
    "This environment is the base environment and is read only. To add other packages, you must clone the environment.\n",
    "For this tutorial, we are staying in the base environment because it has all the packages we want.\n",
    "\n",
    "Start by creating a new second map and two new layouts"
   ]
  },
  {
   "cell_type": "code",
   "execution_count": 11,
   "metadata": {},
   "outputs": [
    {
     "data": {
      "text/plain": [
       "'D:\\\\GDAA2010_Data_Modeling\\\\ArcPy\\\\ArcPy_Data\\\\ArcPyTutorial\\\\ArcPyTutorial.gdb'"
      ]
     },
     "execution_count": 11,
     "metadata": {},
     "output_type": "execute_result"
    }
   ],
   "source": [
    "arcpy.env.workspace"
   ]
  },
  {
   "cell_type": "code",
   "execution_count": 12,
   "metadata": {},
   "outputs": [],
   "source": [
    "# Importing required packages for this tutorial\n",
    "import arcpy\n",
    "import os\n",
    "import random\n",
    "\n",
    "# Set the workspace.\n",
    "# The default location for geoprocessing tool input and output. \n",
    "# We want to set it to the local file geodatabase but can be a folder\n",
    "arcpy.env.workspace = r'D:\\GDAA2010_Data_Modeling\\ArcPy\\ArcPy_Data\\ArcPyTutorial\\ArcPyTutorial.gdb'"
   ]
  },
  {
   "cell_type": "code",
   "execution_count": 13,
   "metadata": {},
   "outputs": [],
   "source": [
    "# create an object for your project\n",
    "project = arcpy.mp.ArcGISProject(\"CURRENT\") # You can also put a path to the aprx file"
   ]
  },
  {
   "cell_type": "code",
   "execution_count": 14,
   "metadata": {},
   "outputs": [
    {
     "name": "stdout",
     "output_type": "stream",
     "text": [
      "D:\\GDAA2010_Data_Modeling\\ArcPy\\ArcPy_Data\\ArcPyTutorial\\ArcPyTutorial.aprx\n"
     ]
    }
   ],
   "source": [
    "print(project.filePath)"
   ]
  },
  {
   "cell_type": "code",
   "execution_count": 16,
   "metadata": {},
   "outputs": [
    {
     "name": "stdout",
     "output_type": "stream",
     "text": [
      "[<arcpy._mp.Map object at 0x0000027243758F48>, <arcpy._mp.Map object at 0x0000027243758948>, <arcpy._mp.Map object at 0x00000272437586C8>]\n",
      "<arcpy._mp.Map object at 0x00000272437586C8>\n",
      "Map\n"
     ]
    }
   ],
   "source": [
    "# You can use the tab button after the period when you type project. and it will bring \n",
    "# up all the various methods you can call on the objects.\n",
    "# Let's use the ListMaps method to list all the maps we have in our project.\n",
    "print(project.listMaps())\n",
    "print(project.listMaps()[0])\n",
    "print(project.listMaps()[0].name)"
   ]
  },
  {
   "cell_type": "code",
   "execution_count": 19,
   "metadata": {},
   "outputs": [
    {
     "name": "stdout",
     "output_type": "stream",
     "text": [
      "[<arcpy._mp.Map object at 0x00000272446B1B48>]\n",
      "<arcpy._mp.Map object at 0x00000272446B1908>\n",
      "Map1\n"
     ]
    }
   ],
   "source": [
    "# We can put the name of the map instead of leaving it blank\n",
    "print(project.listMaps('Map'))\n",
    "print(project.listMaps('Map')[0])\n",
    "print(project.listMaps('Map1')[0].name)"
   ]
  },
  {
   "cell_type": "code",
   "execution_count": 20,
   "metadata": {},
   "outputs": [],
   "source": [
    "# We have 2 maps named Map and Map1. Let's rename them.\n",
    "# Creating a map object for our map called Map\n",
    "edm_map = project.listMaps('Map')[0]\n",
    "edm_map.name = 'Edmonton Map'\n",
    "hfx_map = project.listMaps('Map1')[0]\n",
    "hfx_map.name = 'Halifax Map'"
   ]
  },
  {
   "cell_type": "code",
   "execution_count": 23,
   "metadata": {},
   "outputs": [
    {
     "name": "stdout",
     "output_type": "stream",
     "text": [
      "[<arcpy._mp.Layer object at 0x00000272446B1D88>, <arcpy._mp.Layer object at 0x00000272446B1A88>, <arcpy._mp.Layer object at 0x00000272446B13C8>, <arcpy._mp.Layer object at 0x00000272446B1AC8>]\n",
      "Candian_Topographic\n",
      "<class 'arcpy._mp.Layer'>\n",
      "Candian_Topographic is a nice map\n",
      "<class 'str'>\n"
     ]
    }
   ],
   "source": [
    "# The same way we use listMaps(), we can use listLayers() on the Map object\n",
    "print(edm_map.listLayers())\n",
    "print(edm_map.listLayers()[0]) # (edm_map.listLayers()[0] + 'a string') will throw an error\n",
    "# because a Layer cannot be concactenated to a string. It is using the __str__ method to print to console.\n",
    "print(type(edm_map.listLayers()[0]))\n",
    "print(edm_map.listLayers()[0].name + ' is a nice map') # This  Better to use .name\n",
    "print(type(edm_map.listLayers()[0].name))"
   ]
  },
  {
   "cell_type": "code",
   "execution_count": 24,
   "metadata": {},
   "outputs": [
    {
     "name": "stdout",
     "output_type": "stream",
     "text": [
      "[<arcpy._mp.Layer object at 0x000002724472CFC8>]\n",
      "World Hillshade\n"
     ]
    }
   ],
   "source": [
    "# Printing World Hillshade list of layers\n",
    "print(edm_map.listLayers('World Hillshade'))\n",
    "# Printing World Hillshade Layer object which will use the __str__ method of the object \n",
    "print(edm_map.listLayers('World Hillshade')[0])\n",
    "# Even though it prints Wold Hillshade, it's still an object so we can call it hillshade\n",
    "hillshade = edm_map.listLayers('World Hillshade')[0]\n",
    "# We can rename this layer like we did with the map\n",
    "hillshade.name = 'World Terrain'"
   ]
  },
  {
   "cell_type": "code",
   "execution_count": 25,
   "metadata": {},
   "outputs": [
    {
     "data": {
      "text/plain": [
       "<arcpy._mp.Layer object at 0x000002724472C688>"
      ]
     },
     "execution_count": 25,
     "metadata": {},
     "output_type": "execute_result"
    }
   ],
   "source": [
    "# Try using hillshade. and press the tab key to see all the different methods we can use on layers\n",
    "hillshade"
   ]
  },
  {
   "cell_type": "code",
   "execution_count": 26,
   "metadata": {},
   "outputs": [
    {
     "name": "stdout",
     "output_type": "stream",
     "text": [
      "[<arcpy._mp.Layout object at 0x00000272446AEF88>, <arcpy._mp.Layout object at 0x0000027244796888>]\n",
      "<arcpy._mp.Layout object at 0x0000027244796888>\n",
      "Layout\n",
      "Layout1\n"
     ]
    }
   ],
   "source": [
    "# You can do the same for layouts\n",
    "print(project.listLayouts())\n",
    "print(project.listLayouts()[0])\n",
    "print(project.listLayouts()[0].name)\n",
    "print(project.listLayouts()[1].name)"
   ]
  },
  {
   "cell_type": "code",
   "execution_count": 27,
   "metadata": {},
   "outputs": [
    {
     "name": "stdout",
     "output_type": "stream",
     "text": [
      "Map: Edmonton Map\n",
      "  Candian_Topographic\n",
      "  Canada Hillshade\n",
      "  World Topographic Canadian Style\n",
      "  World Terrain\n",
      "Map: Halifax Map\n",
      "  Canada_Topographic\n",
      "  Canada Hillshade\n",
      "  World Topographic Canadian Style\n",
      "  World Hillshade\n",
      "Map: Halifax Map\n",
      "  Canada_Topographic\n",
      "  Canada Hillshade\n",
      "  World Topographic Canadian Style\n",
      "  World Hillshade\n",
      "Layouts:\n",
      "Layout\n",
      "Layout1\n"
     ]
    }
   ],
   "source": [
    "# One nice thing about working in python is the ability to loop trough things.\n",
    "# we can loop through the map objects and list the layers.\n",
    "for mp in project.listMaps():\n",
    "    print(\"Map: \" + mp.name)\n",
    "    for layer in mp.listLayers():\n",
    "        print(\"  \" + layer.name)\n",
    "print('Layouts:')\n",
    "for layout in project.listLayouts():\n",
    "    print(layout.name)"
   ]
  },
  {
   "cell_type": "code",
   "execution_count": 28,
   "metadata": {},
   "outputs": [],
   "source": [
    "# Use .save() on your project object to save your project\n",
    "project.save()"
   ]
  },
  {
   "cell_type": "code",
   "execution_count": 29,
   "metadata": {},
   "outputs": [],
   "source": [
    "# Let's add some feature classes to the map. \n",
    "# Define paths to the shapefiles\n",
    "# Infrastructure for our Edmonton Map\n",
    "drainage_path = r\"D:\\GDAA2010_Data_Modeling\\ArcPy\\ArcPy_Data\\Drainage_FC.shp\"\n",
    "transmission_lines_path = r'https://cogsnscc.maps.arcgis.com/home/item.html?id=e1ef8015147f407c9d53385d1a4dd1f5'\n",
    "\n",
    "# Speed display signs for our Halifax Map\n",
    "speed_signs_path = r\"D:\\GDAA2010_Data_Modeling\\ArcPy\\ArcPy_Data\\Speed_Display_Signs.shp\"\n",
    "\n"
   ]
  },
  {
   "cell_type": "code",
   "execution_count": 30,
   "metadata": {},
   "outputs": [
    {
     "data": {
      "text/plain": [
       "<arcpy._mp.Layer object at 0x000002724472C7C8>"
      ]
     },
     "execution_count": 30,
     "metadata": {},
     "output_type": "execute_result"
    }
   ],
   "source": [
    "# Add the drainage shapefile as a layer object to the map\n",
    "# Warning: If you run this code again it will add a 2nd layer to the map\n",
    "drainage = edm_map.addDataFromPath(drainage_path)\n",
    "# This is now a Shapefile Feature Class\n",
    "# Try doing drainage. to see the methods we can do on feature classes\n",
    "drainage"
   ]
  },
  {
   "cell_type": "code",
   "execution_count": 31,
   "metadata": {},
   "outputs": [],
   "source": [
    "# Add the shapefile as a layer object to the map\n",
    "transmission_lines = edm_map.addDataFromPath(transmission_lines_path)\n",
    "# Add the speed display signs for our Halifax Map\n",
    "speed_signs = hfx_map.addDataFromPath(speed_signs_path)"
   ]
  },
  {
   "cell_type": "code",
   "execution_count": 32,
   "metadata": {},
   "outputs": [
    {
     "name": "stdout",
     "output_type": "stream",
     "text": [
      "GCS_WGS_1984\n",
      "Point\n"
     ]
    }
   ],
   "source": [
    "# You can use arcpy.Describe(speed_signs) to create an object that has\n",
    "# all the properties of the feature class\n",
    "desc = arcpy.Describe(speed_signs)\n",
    "print(desc.spatialReference.name)\n",
    "print(desc.shapeType)"
   ]
  },
  {
   "cell_type": "code",
   "execution_count": 79,
   "metadata": {
    "scrolled": true
   },
   "outputs": [
    {
     "data": {
      "text/plain": [
       "{'catalogPath': 'D:\\\\GDAA2010_Data_Modeling\\\\ArcPy\\\\ArcPy_Data\\\\Speed_Display_Signs.shp', 'FIDSet': None, 'baseName': 'Speed_Display_Signs', 'canVersion': False, 'changeTracked': False, 'children': [], 'childrenExpanded': True, 'dataElement': {'catalogPath': 'D:\\\\GDAA2010_Data_Modeling\\\\ArcPy\\\\ArcPy_Data\\\\Speed_Display_Signs.shp', 'FIDSet': None, 'baseName': 'Speed_Display_Signs', 'canVersion': False, 'changeTracked': False, 'children': [], 'childrenExpanded': True, 'dataElementType': 'DEShapeFile', 'datasetType': 'FeatureClass', 'dataType': 'ShapeFile', 'DSID': -1, 'extension': 'shp', 'extent': <Extent object at 0x22e5ff177c8[0x22e61e46d80]>, 'featureType': 'Simple', 'fields': [<Field object at 0x22e5fe31308[0x22e61deca10]>, <Field object at 0x22e5fe49308[0x22e61deca50]>, <Field object at 0x22e621fa948[0x22e61dec9b0]>, <Field object at 0x22e5ff1e6c8[0x22e61decb30]>, <Field object at 0x22e616c0948[0x22e61decbb0]>, <Field object at 0x22e618a4248[0x22e61deceb0]>, <Field object at 0x22e61e73388[0x22e61decc70]>, <Field object at 0x22e61e9bf88[0x22e61deccf0]>, <Field object at 0x22e61e9b908[0x22e61decd70]>, <Field object at 0x22e61e9b848[0x22e61decdf0]>, <Field object at 0x22e61e9b248[0x22e61dec450]>, <Field object at 0x22e61e9bfc8[0x22e61dec4f0]>, <Field object at 0x22e61e9b208[0x22e61dec570]>, <Field object at 0x22e61e9bcc8[0x22e61dec5d0]>, <Field object at 0x22e61e9b288[0x22e61dec650]>, <Field object at 0x22e61e9b948[0x22e61dec6d0]>, <Field object at 0x22e61e9bb88[0x22e61dec750]>, <Field object at 0x22e61e9bd08[0x22e61dec7d0]>, <Field object at 0x22e61e9bac8[0x22e61dec850]>], 'file': 'Speed_Display_Signs.shp', 'fullPropsRetrieved': True, 'geometryStorage': '', 'hasM': False, 'hasOID': True, 'hasSpatialIndex': False, 'hasZ': False, 'indexes': [], 'isVersioned': False, 'metadataRetrieved': False, 'MExtent': 'nan nan', 'name': 'Speed_Display_Signs.shp', 'OIDFieldName': 'FID', 'path': 'D:\\\\GDAA2010_Data_Modeling\\\\ArcPy\\\\ArcPy_Data', 'shapeFieldName': 'Shape', 'shapeType': 'Point', 'spatialReference': <SpatialReference object at 0x22e61dce1c8[0x22e61dec8d0]>, 'ZExtent': 'nan nan'}, 'dataElementType': 'DEShapeFile', 'datasetType': 'FeatureClass', 'dataType': 'FeatureLayer', 'DSID': -1, 'endTimeField': '', 'extension': 'shp', 'extent': <Extent object at 0x22e61e9d788[0x22e6181c360]>, 'featureClass': {'catalogPath': 'D:\\\\GDAA2010_Data_Modeling\\\\ArcPy\\\\ArcPy_Data\\\\Speed_Display_Signs.shp', 'FIDSet': None, 'baseName': 'Speed_Display_Signs', 'canVersion': False, 'changeTracked': False, 'children': [], 'childrenExpanded': True, 'dataElementType': 'DEShapeFile', 'datasetType': 'FeatureClass', 'dataType': 'ShapeFile', 'DSID': -1, 'extension': 'shp', 'extent': <Extent object at 0x22e61e9db48[0x22e6181c150]>, 'featureType': 'Simple', 'fields': [<Field object at 0x22e61e9da08[0x22e61dec090]>, <Field object at 0x22e61e9da88[0x22e61dec150]>, <Field object at 0x22e61e9d748[0x22e61dec1d0]>, <Field object at 0x22e61e9d348[0x22e61dec250]>, <Field object at 0x22e61e9d6c8[0x22e61dec2d0]>, <Field object at 0x22e61d8be88[0x22e61dec110]>, <Field object at 0x22e617f7888[0x22e61dec390]>, <Field object at 0x22e617f75c8[0x22e61e58d50]>, <Field object at 0x22e617f7d88[0x22e61e58db0]>, <Field object at 0x22e617f7588[0x22e61e581d0]>, <Field object at 0x22e617f7e08[0x22e61e589f0]>, <Field object at 0x22e617f7308[0x22e61e588d0]>, <Field object at 0x22e617f74c8[0x22e61e58990]>, <Field object at 0x22e617f7148[0x22e61e589b0]>, <Field object at 0x22e617f7208[0x22e61e58cb0]>, <Field object at 0x22e61e925c8[0x22e61e58b90]>, <Field object at 0x22e61e923c8[0x22e61e58dd0]>, <Field object at 0x22ea3eb7248[0x22e61e58cd0]>, <Field object at 0x22ea3ea1648[0x22e61e58430]>], 'file': 'Speed_Display_Signs.shp', 'fullPropsRetrieved': True, 'geometryStorage': '', 'hasM': False, 'hasOID': True, 'hasSpatialIndex': False, 'hasZ': False, 'indexes': [], 'isVersioned': False, 'metadataRetrieved': False, 'MExtent': 'nan nan', 'name': 'Speed_Display_Signs.shp', 'OIDFieldName': 'FID', 'path': 'D:\\\\GDAA2010_Data_Modeling\\\\ArcPy\\\\ArcPy_Data', 'shapeFieldName': 'Shape', 'shapeType': 'Point', 'spatialReference': <SpatialReference object at 0x22e61ea71c8[0x22e61e58df0]>, 'ZExtent': 'nan nan'}, 'featureType': 'Simple', 'fieldInfo': <FieldInfo object at 0x22e61ea7388[0x22e61cf6730]>, 'fields': [<Field object at 0x22e61ea73c8[0x22e61cf6b70]>, <Field object at 0x22e61ea7288[0x22e61cf6cf0]>, <Field object at 0x22e61ea70c8[0x22e61cf66d0]>, <Field object at 0x22e61ea7088[0x22e61cf6cb0]>, <Field object at 0x22e61ea7b08[0x22e61cf6930]>, <Field object at 0x22e61ea7c48[0x22e61cf6370]>, <Field object at 0x22e61ea7bc8[0x22e61cf6030]>, <Field object at 0x22e61ea7448[0x22e61cf6fb0]>, <Field object at 0x22e61ea78c8[0x22e61cf6c50]>, <Field object at 0x22e61ea7188[0x22e61cf6f70]>, <Field object at 0x22e61ea7208[0x22e61cf61d0]>, <Field object at 0x22e61ea7b88[0x22e61cf67d0]>, <Field object at 0x22e61ea0548[0x22e61cf68f0]>, <Field object at 0x22e61ea0e08[0x22e61cf6530]>, <Field object at 0x22e61ea0f08[0x22e61cf6090]>, <Field object at 0x22e61ea04c8[0x22e61cf6b90]>, <Field object at 0x22e61ea0a88[0x22e61cf6350]>, <Field object at 0x22e61ea0148[0x22ea331a050]>, <Field object at 0x22e6182e288[0x22ea331a090]>], 'file': 'Speed_Display_Signs.shp', 'fullPropsRetrieved': True, 'hasM': False, 'hasOID': True, 'hasSpatialIndex': False, 'hasZ': False, 'indexes': [], 'isVersioned': False, 'metadataRetrieved': False, 'MExtent': 'nan nan', 'name': 'Speed_Display_Signs.shp', 'nameString': 'Speed_Display_Signs', 'OIDFieldName': 'FID', 'path': 'D:\\\\GDAA2010_Data_Modeling\\\\ArcPy\\\\ArcPy_Data', 'shapeFieldName': 'Shape', 'shapeType': 'Point', 'spatialReference': <SpatialReference object at 0x22e6182e708[0x22ea331a0d0]>, 'startTimeField': '', 'table': {'catalogPath': 'D:\\\\GDAA2010_Data_Modeling\\\\ArcPy\\\\ArcPy_Data\\\\Speed_Display_Signs.shp', 'FIDSet': None, 'baseName': 'Speed_Display_Signs', 'canVersion': False, 'changeTracked': False, 'children': [], 'childrenExpanded': True, 'dataElementType': 'DEShapeFile', 'datasetType': 'FeatureClass', 'dataType': 'ShapeFile', 'DSID': -1, 'extension': 'shp', 'extent': <Extent object at 0x22e6182e688[0x22e6181c3c0]>, 'featureType': 'Simple', 'fields': [<Field object at 0x22e6182e648[0x22ea331a130]>, <Field object at 0x22e6182ef88[0x22ea331a190]>, <Field object at 0x22e61826448[0x22ea331a1d0]>, <Field object at 0x22e61826b88[0x22ea331a210]>, <Field object at 0x22e61826d08[0x22ea331a250]>, <Field object at 0x22e618262c8[0x22ea331a170]>, <Field object at 0x22e61826d48[0x22ea331a2b0]>, <Field object at 0x22e61826548[0x22ea331a2f0]>, <Field object at 0x22e618264c8[0x22ea331a330]>, <Field object at 0x22e61826a08[0x22ea331a370]>, <Field object at 0x22e61826508[0x22ea331a3b0]>, <Field object at 0x22e61826b48[0x22ea331a3f0]>, <Field object at 0x22e61826e88[0x22ea331a430]>, <Field object at 0x22e61826648[0x22e61cf6810]>, <Field object at 0x22e61826ec8[0x22e61cf6790]>, <Field object at 0x22e618260c8[0x22e61cf61b0]>, <Field object at 0x22e61826048[0x22e61cf6330]>, <Field object at 0x22e61826cc8[0x22e61cf6c30]>, <Field object at 0x22e61826908[0x22e61cf6710]>], 'file': 'Speed_Display_Signs.shp', 'fullPropsRetrieved': True, 'geometryStorage': '', 'hasM': False, 'hasOID': True, 'hasSpatialIndex': False, 'hasZ': False, 'indexes': [], 'isVersioned': False, 'metadataRetrieved': False, 'MExtent': 'nan nan', 'name': 'Speed_Display_Signs.shp', 'OIDFieldName': 'FID', 'path': 'D:\\\\GDAA2010_Data_Modeling\\\\ArcPy\\\\ArcPy_Data', 'shapeFieldName': 'Shape', 'shapeType': 'Point', 'spatialReference': <SpatialReference object at 0x22e61826848[0x22e61cf63b0]>, 'ZExtent': 'nan nan'}, 'timeValueFormat': '', 'TimeZone': '', 'whereClause': '', 'ZExtent': 'nan nan'}"
      ]
     },
     "execution_count": 79,
     "metadata": {},
     "output_type": "execute_result"
    }
   ],
   "source": [
    "# Alternatively, you can use the arcpy.da.Describe(speed_signs) method to\n",
    "# get a dictionary version of the properties of the feature class\n",
    "# Both can be useful depending on the situation. This method is slower.\n",
    "desc = arcpy.da.Describe(speed_signs)\n",
    "desc"
   ]
  },
  {
   "cell_type": "code",
   "execution_count": 80,
   "metadata": {},
   "outputs": [
    {
     "data": {
      "text/html": [
       "<style>table td#td0  {font-weight: bold}</style><table class=\"notebook\"><colgroup><col style=\"width:45%\"></col><col style=\"width:55%\"></col></colgroup><tr><td id = \"td0\" title=\"name (Geographic Coordinate System)\">name (Geographic Coordinate System)</td><td title=\"GCS_WGS_1984\">GCS_WGS_1984</td></tr><tr><td id = \"td0\" title=\"factoryCode (WKID)\">factoryCode (WKID)</td><td title=\"4326\">4326</td></tr><tr><td id = \"td0\" title=\"angularUnitName (Angular Unit)\">angularUnitName (Angular Unit)</td><td title=\"Degree\">Degree</td></tr><tr><td id = \"td0\" title=\"datumName (Datum)\">datumName (Datum)</td><td title=\"D_WGS_1984\">D_WGS_1984</td></tr></table>"
      ],
      "text/plain": [
       "<SpatialReference object at 0x22e6182e708[0x22ea331a0d0]>"
      ]
     },
     "execution_count": 80,
     "metadata": {},
     "output_type": "execute_result"
    }
   ],
   "source": [
    "desc['spatialReference']"
   ]
  },
  {
   "cell_type": "code",
   "execution_count": 81,
   "metadata": {},
   "outputs": [
    {
     "data": {
      "text/plain": [
       "'GCS_WGS_1984'"
      ]
     },
     "execution_count": 81,
     "metadata": {},
     "output_type": "execute_result"
    }
   ],
   "source": [
    "desc['spatialReference'].name"
   ]
  },
  {
   "cell_type": "code",
   "execution_count": 82,
   "metadata": {},
   "outputs": [
    {
     "data": {
      "text/plain": [
       "'Point'"
      ]
     },
     "execution_count": 82,
     "metadata": {},
     "output_type": "execute_result"
    }
   ],
   "source": [
    "desc['shapeType']"
   ]
  },
  {
   "cell_type": "code",
   "execution_count": 83,
   "metadata": {},
   "outputs": [
    {
     "data": {
      "text/plain": [
       "<module 'arcpy.sa' from 'C:\\\\Program Files\\\\ArcGIS\\\\Pro\\\\Resources\\\\ArcPy\\\\arcpy\\\\sa\\\\__init__.py'>"
      ]
     },
     "execution_count": 83,
     "metadata": {},
     "output_type": "execute_result"
    }
   ],
   "source": [
    "# You can also access ArcPy and python directly within ArcGIS Pro\n",
    "# and outside of this notebook by using the Python window by \n",
    "# clicking on the view tab and clicking on Python window.\n",
    "# It's similar to a command prompt but you can write code here instead.\n",
    "\n",
    "# Use arcpy. to check all the different methods.\n",
    "# da is data access, nax is network analysis, sa is spatial analyst, etc.\n",
    "arcpy.sa."
   ]
  },
  {
   "cell_type": "code",
   "execution_count": 33,
   "metadata": {},
   "outputs": [
    {
     "data": {
      "text/html": [
       "<div class='gpresult'><h2>Messages</h2><div id='messages' data-messages='[\"Start Time: April 18, 2023 11:34:49 AM\",\"Succeeded at April 18, 2023 11:34:54 AM (Elapsed Time: 4.66 seconds)\"]' data-show='true'><div id = 'default' /></div></div>"
      ],
      "text/plain": [
       "<Result 'D:\\\\GDAA2010_Data_Modeling\\\\ArcPy\\\\ArcPy_Data\\\\ArcPyTutorial\\\\ArcPyTutorial.gdb\\\\Drainage_FC_Project'>"
      ]
     },
     "execution_count": 33,
     "metadata": {},
     "output_type": "execute_result"
    }
   ],
   "source": [
    "crs = arcpy.SpatialReference(3857)\n",
    "#arcpy.management.Project(\n",
    "#    in_dataset,\n",
    "#    out_dataset,\n",
    "#    out_coor_system,\n",
    "#    {transform_method},\n",
    "#    {in_coor_system},\n",
    "#    {preserve_shape},\n",
    "#    {max_deviation},\n",
    "#    {vertical})\n",
    "arcpy.management.Project(r\"D:\\GDAA2010_Data_Modeling\\ArcPy\\ArcPy_Data\\Drainage_FC.shp\",\n",
    "                         r\"D:\\GDAA2010_Data_Modeling\\ArcPy\\ArcPy_Data\\ArcPyTutorial\\ArcPyTutorial.gdb\\Drainage_FC_Project\",\n",
    "                         crs)\n",
    "#arcpy.management.Project(r\"D:\\GDAA2010_Data_Modeling\\ArcPy\\ArcPy_Data\\Drainage_FC.shp\", r\"D:\\GDAA2010_Data_Modeling\\ArcPy\\ArcPy_Data\\ArcPyTutorial\\ArcPyTutorial.gdb\\Drainage_FC_Project1\", 'PROJCS[\"WGS_1984_Web_Mercator_Auxiliary_Sphere\",GEOGCS[\"GCS_WGS_1984\",DATUM[\"D_WGS_1984\",SPHEROID[\"WGS_1984\",6378137.0,298.257223563]],PRIMEM[\"Greenwich\",0.0],UNIT[\"Degree\",0.0174532925199433]],PROJECTION[\"Mercator_Auxiliary_Sphere\"],PARAMETER[\"False_Easting\",0.0],PARAMETER[\"False_Northing\",0.0],PARAMETER[\"Central_Meridian\",0.0],PARAMETER[\"Standard_Parallel_1\",0.0],PARAMETER[\"Auxiliary_Sphere_Type\",0.0],UNIT[\"Meter\",1.0]]', None, 'GEOGCS[\"GCS_WGS_1984\",DATUM[\"D_WGS_1984\",SPHEROID[\"WGS_1984\",6378137.0,298.257223563]],PRIMEM[\"Greenwich\",0.0],UNIT[\"Degree\",0.0174532925199433]]', \"NO_PRESERVE_SHAPE\", None, \"NO_VERTICAL\")"
   ]
  },
  {
   "cell_type": "code",
   "execution_count": 37,
   "metadata": {},
   "outputs": [],
   "source": [
    "# You can get a layer object in one line of code\n",
    "drainage_proj = project.listMaps('Edmonton Map')[0].listLayers('Drainage_FC_Project')[0]"
   ]
  },
  {
   "cell_type": "code",
   "execution_count": 35,
   "metadata": {},
   "outputs": [],
   "source": [
    "# Let's do a definition query on our Drainage_FC_Project layer for Type = STORM and above avg\n",
    "drainage_proj.definitionQuery = \"type = 'FOUNDATION DRAIN' AND length > 0.00123\""
   ]
  },
  {
   "cell_type": "code",
   "execution_count": 38,
   "metadata": {},
   "outputs": [
    {
     "data": {
      "text/html": [
       "<div class='gpresult'><h2>Messages</h2><div id='messages' data-messages='[\"Start Time: April 18, 2023 11:38:24 AM\",\"Succeeded at April 18, 2023 11:38:25 AM (Elapsed Time: 0.81 seconds)\"]' data-show='true'><div id = 'default' /></div></div>"
      ],
      "text/plain": [
       "<Result 'D:\\\\GDAA2010_Data_Modeling\\\\ArcPy\\\\ArcPy_Data\\\\ArcPyTutorial\\\\ArcPyTutorial.gdb\\\\Drainage_output'>"
      ]
     },
     "execution_count": 38,
     "metadata": {},
     "output_type": "execute_result"
    }
   ],
   "source": [
    "# Clicking on the ? icon on a tool in the geoprocessing pane will give the python\n",
    "# code for the tool you want to use. Let's use the buffer tool on the Drainage data.\n",
    "\n",
    "# The Curly braces means it's optional\n",
    "# By typing arcpy.analysis.Buffer('Drainage_FC_Proj', 'Drainage_output', 30)\n",
    "# in the python window, we can right click on the history and copy \n",
    "# python command. Here is what was executed:\n",
    "arcpy.analysis.Buffer(\"Drainage_FC_Project\",\n",
    "                      r\"Drainage_output\",\n",
    "                      \"30 Unknown\",\n",
    "                      \"FULL\",\n",
    "                      \"ROUND\",\n",
    "                      \"NONE\",\n",
    "                      None,\n",
    "                      \"PLANAR\")"
   ]
  },
  {
   "cell_type": "code",
   "execution_count": 39,
   "metadata": {},
   "outputs": [
    {
     "ename": "ExecuteError",
     "evalue": "Failed to execute. Parameters are not valid.\nERROR 000840: The value is not a Feature Layer.\nERROR 000840: The value is not a Feature Dataset.\nERROR 000840: The value is not a Scene Layer.\nERROR 000840: The value is not a Building Scene Layer.\nERROR 000840: The value is not a File.\nWARNING 000725: Output Dataset or Feature Class: Dataset D:\\GDAA2010_Data_Modeling\\ArcPy\\ArcPy_Data\\ArcPyTutorial\\ArcPyTutorial.gdb\\Power_Lines_Proj already exists.\nFailed to execute (Project).\n",
     "output_type": "error",
     "traceback": [
      "\u001b[0;31m---------------------------------------------------------------------------\u001b[0m\n\u001b[0;31mExecuteError\u001b[0m                              Traceback (most recent call last)",
      "In  \u001b[0;34m[39]\u001b[0m:\nLine \u001b[0;34m2\u001b[0m:     arcpy.management.Project(\u001b[33m'\u001b[39;49;00m\u001b[33mTransmission Lines View Layer\u001b[39;49;00m\u001b[33m'\u001b[39;49;00m, \u001b[33m'\u001b[39;49;00m\u001b[33mPower_Lines_Proj\u001b[39;49;00m\u001b[33m'\u001b[39;49;00m, crs)\n",
      "File \u001b[0;34mC:\\Program Files\\ArcGIS\\Pro\\Resources\\ArcPy\\arcpy\\management.py\u001b[0m, in \u001b[0;32mProject\u001b[0m:\nLine \u001b[0;34m13216\u001b[0m: \u001b[34mraise\u001b[39;49;00m e\n",
      "File \u001b[0;34mC:\\Program Files\\ArcGIS\\Pro\\Resources\\ArcPy\\arcpy\\management.py\u001b[0m, in \u001b[0;32mProject\u001b[0m:\nLine \u001b[0;34m13213\u001b[0m: retval = convertArcObjectToPythonObject(gp.Project_management(*gp_fixargs((in_dataset, out_dataset, out_coor_system, transform_method, in_coor_system, preserve_shape, max_deviation, vertical), \u001b[34mTrue\u001b[39;49;00m)))\n",
      "File \u001b[0;34mC:\\Program Files\\ArcGIS\\Pro\\Resources\\ArcPy\\arcpy\\geoprocessing\\_base.py\u001b[0m, in \u001b[0;32m<lambda>\u001b[0m:\nLine \u001b[0;34m512\u001b[0m:   \u001b[34mreturn\u001b[39;49;00m \u001b[34mlambda\u001b[39;49;00m *args: val(*gp_fixargs(args, \u001b[34mTrue\u001b[39;49;00m))\n",
      "\u001b[0;31mExecuteError\u001b[0m: Failed to execute. Parameters are not valid.\nERROR 000840: The value is not a Feature Layer.\nERROR 000840: The value is not a Feature Dataset.\nERROR 000840: The value is not a Scene Layer.\nERROR 000840: The value is not a Building Scene Layer.\nERROR 000840: The value is not a File.\nWARNING 000725: Output Dataset or Feature Class: Dataset D:\\GDAA2010_Data_Modeling\\ArcPy\\ArcPy_Data\\ArcPyTutorial\\ArcPyTutorial.gdb\\Power_Lines_Proj already exists.\nFailed to execute (Project).\n\n\u001b[0;31m---------------------------------------------------------------------------\u001b[0m"
     ]
    }
   ],
   "source": [
    "# Now we're going to project the transmission lines and merge the two\n",
    "arcpy.management.Project('Transmission Lines View Layer', 'Power_Lines_Proj', crs)"
   ]
  },
  {
   "cell_type": "code",
   "execution_count": 40,
   "metadata": {},
   "outputs": [
    {
     "data": {
      "text/html": [
       "<div class='gpresult'><h2>Messages</h2><div id='messages' data-messages='[\"Start Time: April 18, 2023 11:38:47 AM\",\"Succeeded at April 18, 2023 11:38:49 AM (Elapsed Time: 2.28 seconds)\"]' data-show='true'><div id = 'default' /></div></div>"
      ],
      "text/plain": [
       "<Result 'D:\\\\GDAA2010_Data_Modeling\\\\ArcPy\\\\ArcPy_Data\\\\ArcPyTutorial\\\\ArcPyTutorial.gdb\\\\Power_Lines'>"
      ]
     },
     "execution_count": 40,
     "metadata": {},
     "output_type": "execute_result"
    }
   ],
   "source": [
    "# Let's get around this error by creating a feature class using \n",
    "# Feature Class to Feature Class\n",
    "arcpy.conversion.FeatureClassToFeatureClass('Transmission Lines View Layer\\\\AIES_Transmission_Lines',\n",
    "                                            'D:\\GDAA2010_Data_Modeling\\ArcPy\\ArcPy_Data\\ArcPyTutorial\\ArcPyTutorial.gdb',\n",
    "                                            'Power_Lines')"
   ]
  },
  {
   "cell_type": "code",
   "execution_count": 41,
   "metadata": {},
   "outputs": [
    {
     "data": {
      "text/html": [
       "<div class='gpresult'><h2>Messages</h2><div id='messages' data-messages='[\"Start Time: April 18, 2023 11:38:53 AM\",\"Succeeded at April 18, 2023 11:38:54 AM (Elapsed Time: 0.81 seconds)\"]' data-show='true'><div id = 'default' /></div></div>"
      ],
      "text/plain": [
       "<Result 'D:\\\\GDAA2010_Data_Modeling\\\\ArcPy\\\\ArcPy_Data\\\\ArcPyTutorial\\\\ArcPyTutorial.gdb\\\\Power_Lines_Proj'>"
      ]
     },
     "execution_count": 41,
     "metadata": {},
     "output_type": "execute_result"
    }
   ],
   "source": [
    "arcpy.management.Project('Power_Lines', 'Power_Lines_Proj', crs)"
   ]
  },
  {
   "cell_type": "code",
   "execution_count": 42,
   "metadata": {},
   "outputs": [
    {
     "data": {
      "text/html": [
       "<div class='gpresult'><h2>Messages</h2><div id='messages' data-messages='[\"Start Time: April 18, 2023 11:39:01 AM\",\"Succeeded at April 18, 2023 11:39:02 AM (Elapsed Time: 0.77 seconds)\"]' data-show='true'><div id = 'default' /></div></div>"
      ],
      "text/plain": [
       "<Result 'D:\\\\GDAA2010_Data_Modeling\\\\ArcPy\\\\ArcPy_Data\\\\ArcPyTutorial\\\\ArcPyTutorial.gdb\\\\Infrastructure'>"
      ]
     },
     "execution_count": 42,
     "metadata": {},
     "output_type": "execute_result"
    }
   ],
   "source": [
    "# Merging layers using Merge\n",
    "arcpy.management.Merge('Drainage_FC_Project;Power_Lines_Proj', 'Infrastructure')"
   ]
  },
  {
   "cell_type": "code",
   "execution_count": 43,
   "metadata": {},
   "outputs": [
    {
     "data": {
      "text/plain": [
       "['AIES_Transmission_Lines_Proj', 'output', 'AIES_Transmission_Lines_Proj_Projected', 'output_Projected', 'Drainage_output_Projected', 'Drainage_FC_Proj_Projected', 'Power_Lines_Projected', 'Power_Lines_Proj_Projected', 'Infrastructure_Projected', 'SpeedSigns_Projected', 'SpeedSigns_Projected_Buffer', 'point_fc', 'Drainage_FC_Project1', 'Drainage_FC_Project', 'Drainage_output', 'Power_Lines', 'Power_Lines_Proj', 'Infrastructure']"
      ]
     },
     "execution_count": 43,
     "metadata": {},
     "output_type": "execute_result"
    }
   ],
   "source": [
    "# This lists every layer inside my geodatabase\n",
    "arcpy.ListFeatureClasses()"
   ]
  },
  {
   "cell_type": "code",
   "execution_count": 44,
   "metadata": {},
   "outputs": [
    {
     "name": "stdout",
     "output_type": "stream",
     "text": [
      "18\n",
      "15\n"
     ]
    }
   ],
   "source": [
    "# Since this is a list of strings, we can do any of our list methods on it.\n",
    "fc_list = arcpy.ListFeatureClasses()\n",
    "print(len(fc_list))\n",
    "print(fc_list.index('Power_Lines')) # 4th item in the list"
   ]
  },
  {
   "cell_type": "code",
   "execution_count": 45,
   "metadata": {},
   "outputs": [
    {
     "name": "stdout",
     "output_type": "stream",
     "text": [
      "AIES_Transmission_Lines_ProjWGS_1984_Web_Mercator_Auxiliary_Sphere            >> AIES_Transmission_Lines_Proj_Projected\n",
      "output                WGS_1984_Web_Mercator_Auxiliary_Sphere            >> output_Projected\n",
      "AIES_Transmission_Lines_Proj_ProjectedNAD_1983_CSRS_3TM_114                              \n",
      "output_Projected      NAD_1983_CSRS_3TM_114                              \n",
      "Drainage_output_ProjectedNAD_1983_CSRS_3TM_114                              \n",
      "Drainage_FC_Proj_ProjectedNAD_1983_CSRS_3TM_114                              \n",
      "Power_Lines_Projected NAD_1983_CSRS_3TM_114                              \n",
      "Power_Lines_Proj_ProjectedNAD_1983_CSRS_3TM_114                              \n",
      "Infrastructure_ProjectedNAD_1983_CSRS_3TM_114                              \n"
     ]
    },
    {
     "ename": "ExecuteError",
     "evalue": "ERROR 999999: Something unexpected caused the tool to fail. Contact Esri Technical Support (http://esriurl.com/support) to Report a Bug, and refer to the error help for potential solutions or workarounds.\ninvalid extent for output coordinate system\nFailed to execute (Project).\n",
     "output_type": "error",
     "traceback": [
      "\u001b[0;31m---------------------------------------------------------------------------\u001b[0m\n\u001b[0;31mExecuteError\u001b[0m                              Traceback (most recent call last)",
      "In  \u001b[0;34m[45]\u001b[0m:\nLine \u001b[0;34m18\u001b[0m:    prj_fc = arcpy.management.Project(fc, \u001b[33mf\u001b[39;49;00m\u001b[33m'\u001b[39;49;00m\u001b[33m{\u001b[39;49;00mfc_name\u001b[33m}\u001b[39;49;00m\u001b[33m_Projected\u001b[39;49;00m\u001b[33m'\u001b[39;49;00m, good_crs)\n",
      "File \u001b[0;34mC:\\Program Files\\ArcGIS\\Pro\\Resources\\ArcPy\\arcpy\\management.py\u001b[0m, in \u001b[0;32mProject\u001b[0m:\nLine \u001b[0;34m13216\u001b[0m: \u001b[34mraise\u001b[39;49;00m e\n",
      "File \u001b[0;34mC:\\Program Files\\ArcGIS\\Pro\\Resources\\ArcPy\\arcpy\\management.py\u001b[0m, in \u001b[0;32mProject\u001b[0m:\nLine \u001b[0;34m13213\u001b[0m: retval = convertArcObjectToPythonObject(gp.Project_management(*gp_fixargs((in_dataset, out_dataset, out_coor_system, transform_method, in_coor_system, preserve_shape, max_deviation, vertical), \u001b[34mTrue\u001b[39;49;00m)))\n",
      "File \u001b[0;34mC:\\Program Files\\ArcGIS\\Pro\\Resources\\ArcPy\\arcpy\\geoprocessing\\_base.py\u001b[0m, in \u001b[0;32m<lambda>\u001b[0m:\nLine \u001b[0;34m512\u001b[0m:   \u001b[34mreturn\u001b[39;49;00m \u001b[34mlambda\u001b[39;49;00m *args: val(*gp_fixargs(args, \u001b[34mTrue\u001b[39;49;00m))\n",
      "\u001b[0;31mExecuteError\u001b[0m: ERROR 999999: Something unexpected caused the tool to fail. Contact Esri Technical Support (http://esriurl.com/support) to Report a Bug, and refer to the error help for potential solutions or workarounds.\ninvalid extent for output coordinate system\nFailed to execute (Project).\n\n\u001b[0;31m---------------------------------------------------------------------------\u001b[0m"
     ]
    }
   ],
   "source": [
    "# We can iterate over each item in the list using a for loop\n",
    "# This code loops through each layer in the list and checks if\n",
    "# it's the correct crs, if it isn't, it will reproject it\n",
    "\n",
    "# Let's convert all the layers into NAD83(CSRS) / Alberta 3TM ref merid 114 W\n",
    "\n",
    "# The correct crs\n",
    "good_crs = arcpy.SpatialReference(3780)\n",
    "\n",
    "# For each featureclass in the workspace \n",
    "for fc in fc_list:\n",
    "#Get properties of the featureclass \n",
    "    desc = arcpy.da.Describe(fc)\n",
    "    fc_name = desc[\"name\"]\n",
    "    sr_name = desc[\"spatialReference\"].name\n",
    "    # If projection incorrect, reproject to correct one\n",
    "    if desc[\"spatialReference\"] != good_crs:\n",
    "        prj_fc = arcpy.management.Project(fc, f'{fc_name}_Projected', good_crs)\n",
    "        prj_fc_name = prj_fc.getOutput(0)\n",
    "        delim = '>>'\n",
    "    else:\n",
    "        prj_fc_name = ''\n",
    "        delim = ''\n",
    "    #Print formatted info on results\n",
    "    print(f'{fc_name:<22}{sr_name:<50}{delim} {os.path.basename(prj_fc_name)}')"
   ]
  },
  {
   "cell_type": "code",
   "execution_count": 46,
   "metadata": {},
   "outputs": [
    {
     "data": {
      "text/html": [
       "<div class='gpresult'><h2>Messages</h2><div id='messages' data-messages='[\"Start Time: April 18, 2023 11:41:04 AM\",\"WARNING 000012: LENGTH already exists\",\"Succeeded at April 18, 2023 11:41:04 AM (Elapsed Time: 0.06 seconds)\"]' data-show='true'><div id = 'default' /></div></div>"
      ],
      "text/plain": [
       "<Result 'SpeedSigns_Projected'>"
      ]
     },
     "execution_count": 46,
     "metadata": {},
     "output_type": "execute_result"
    }
   ],
   "source": [
    "arcpy.management.AddField('SpeedSigns_Projected', \"Type\", \"TEXT\")\n",
    "arcpy.management.AddField('SpeedSigns_Projected', \"LENGTH\", \"DOUBLE\")"
   ]
  },
  {
   "cell_type": "code",
   "execution_count": 47,
   "metadata": {},
   "outputs": [
    {
     "data": {
      "text/html": [
       "<div class='gpresult'><h2>Messages</h2><div id='messages' data-messages='[\"Start Time: April 18, 2023 11:41:25 AM\",\"Succeeded at April 18, 2023 11:41:25 AM (Elapsed Time: 0.07 seconds)\"]' data-show='true'><div id = 'default' /></div></div>"
      ],
      "text/plain": [
       "<Result 'SpeedSigns_Projected'>"
      ]
     },
     "execution_count": 47,
     "metadata": {},
     "output_type": "execute_result"
    }
   ],
   "source": [
    "# By going to geoprocessing tools Caclulate Field, you will find the code\n",
    "#arcpy.management.CalculateField(in_table, field, expression,\n",
    "#   {expression_type},\n",
    "#   {code_block},\n",
    "#   {field_type},\n",
    "#   {enforce_domains})\n",
    "arcpy.management.CalculateField('SpeedSigns_Projected', 'Type', '!OWNER! + !TYPEPOLE!')"
   ]
  },
  {
   "cell_type": "code",
   "execution_count": null,
   "metadata": {},
   "outputs": [],
   "source": [
    "# You can also export your model builder model to python code by going on\n",
    "# the Model Builder Tab and clicking on export. You can export to python \n",
    "# file or send the code to the python window.\n"
   ]
  },
  {
   "cell_type": "code",
   "execution_count": null,
   "metadata": {},
   "outputs": [],
   "source": [
    "# You can also click on the arrow button next to each run button to copy\n",
    "# the python command"
   ]
  },
  {
   "cell_type": "code",
   "execution_count": 54,
   "metadata": {},
   "outputs": [],
   "source": [
    "# Create the feature class\n",
    "point_class = arcpy.CreateFeatureclass_management(arcpy.env.workspace,\n",
    "                                    'point_fc',\n",
    "                                    \"POINT\",\n",
    "                                    spatial_reference=4326 )"
   ]
  },
  {
   "cell_type": "code",
   "execution_count": 50,
   "metadata": {},
   "outputs": [
    {
     "name": "stdout",
     "output_type": "stream",
     "text": [
      "Inserted (-63.5752, 44.6488) into D:\\GDAA2010_Data_Modeling\\ArcPy\\ArcPy_Data\\ArcPyTutorial\\ArcPyTutorial.gdb\\point_fc\n",
      "Inserted (-65.15974, 44.881668) into D:\\GDAA2010_Data_Modeling\\ArcPy\\ArcPy_Data\\ArcPyTutorial\\ArcPyTutorial.gdb\\point_fc\n",
      "Inserted (-64.367226, 45.090152) into D:\\GDAA2010_Data_Modeling\\ArcPy\\ArcPy_Data\\ArcPyTutorial\\ArcPyTutorial.gdb\\point_fc\n"
     ]
    }
   ],
   "source": [
    "# Create a new cursor to insert features into the feature class\n",
    "coords = [(-63.5752, 44.6488), (-65.159740, 44.881668), (-64.367226, 45.090152)]\n",
    "\n",
    "# Add the point to the feature class\n",
    "with arcpy.da.InsertCursor(point_class, [\"SHAPE@XY\"]) as insert_cursor:\n",
    "    for coord in coords:\n",
    "        print(\"Inserted {} into {}\".format(coord, point_class))\n",
    "        insert_cursor.insertRow([coord])"
   ]
  },
  {
   "cell_type": "code",
   "execution_count": 55,
   "metadata": {},
   "outputs": [],
   "source": [
    "# Now let's loop and a random set of points\n",
    "min_lon, max_lon = -65, -63\n",
    "min_lat, max_lat = 44.5, 45\n",
    "point_list = []\n",
    "# Generate 10 random points and add them to the list\n",
    "for i in range(200):\n",
    "    lon = random.uniform(min_lon, max_lon)\n",
    "    lat = random.uniform(min_lat, max_lat)\n",
    "    point_list.append((lon, lat))\n",
    "with arcpy.da.InsertCursor(point_class, [\"SHAPE@XY\"]) as insert_cursor:\n",
    "    for coord in point_list:\n",
    "        insert_cursor.insertRow([coord])\n"
   ]
  },
  {
   "cell_type": "code",
   "execution_count": 52,
   "metadata": {},
   "outputs": [
    {
     "data": {
      "text/html": [
       "<div class='gpresult'><h2>Messages</h2><div id='messages' data-messages='[\"Start Time: April 18, 2023 11:43:38 AM\",\"Adding Type to point_fc...\",\"Succeeded at April 18, 2023 11:43:38 AM (Elapsed Time: 0.08 seconds)\"]' data-show='true'><div id = 'default' /></div></div>"
      ],
      "text/plain": [
       "<Result 'point_fc'>"
      ]
     },
     "execution_count": 52,
     "metadata": {},
     "output_type": "execute_result"
    }
   ],
   "source": [
    "#Let's add a field to the point class\n",
    "arcpy.management.AddField('point_fc', \"Type\", \"TEXT\")"
   ]
  },
  {
   "cell_type": "code",
   "execution_count": 53,
   "metadata": {},
   "outputs": [],
   "source": [
    "ptList =[[\"lunns\",(-65.164,44.874)],[\"beesknees\",(-65.158, 44.882)],[\"school\",(-65.156, 44.879)]]\n",
    "\n",
    "with arcpy.da.InsertCursor('point_fc',\n",
    "                           ['Type', 'SHAPE@XY']) as insert_cursor:\n",
    "    for info in ptList:\n",
    "        insert_cursor.insertRow(info)"
   ]
  },
  {
   "cell_type": "code",
   "execution_count": null,
   "metadata": {},
   "outputs": [],
   "source": [
    "#ArcGIS_API"
   ]
  }
 ],
 "metadata": {
  "kernelspec": {
   "display_name": "ArcGISPro",
   "language": "Python",
   "name": "python3"
  },
  "language_info": {
   "file_extension": ".py",
   "name": "python",
   "version": "3"
  }
 },
 "nbformat": 4,
 "nbformat_minor": 2
}
